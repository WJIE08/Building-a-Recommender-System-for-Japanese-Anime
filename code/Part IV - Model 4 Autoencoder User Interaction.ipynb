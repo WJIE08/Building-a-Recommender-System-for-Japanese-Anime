{
 "cells": [
  {
   "cell_type": "code",
   "execution_count": 1,
   "metadata": {},
   "outputs": [],
   "source": [
    "import pandas as pd\n",
    "import matplotlib.pyplot as plt\n",
    "import math\n",
    "import numpy as np\n",
    "import seaborn as sns\n",
    "%matplotlib inline  \n",
    "import urllib.parse as urlparse\n",
    "from keras.optimizers import Adam\n",
    "from keras.layers import Input, Dense, Dropout\n",
    "from keras.models import Model\n",
    "import os\n",
    "import pickle\n",
    "import timeit\n",
    "import random\n",
    "\n",
    "import warnings\n",
    "warnings.filterwarnings('ignore')"
   ]
  },
  {
   "cell_type": "markdown",
   "metadata": {},
   "source": [
    "## 1. Import Data"
   ]
  },
  {
   "cell_type": "code",
   "execution_count": 2,
   "metadata": {},
   "outputs": [
    {
     "data": {
      "text/plain": [
       "(75921, 7)"
      ]
     },
     "execution_count": 2,
     "metadata": {},
     "output_type": "execute_result"
    }
   ],
   "source": [
    "# import reviews data\n",
    "df_reviews = pd.read_csv(\"processed_data/processed_reviews.csv\")\n",
    "df_reviews = df_reviews.rename(columns={'score': 'rating'})\n",
    "df_reviews.shape"
   ]
  },
  {
   "cell_type": "code",
   "execution_count": 3,
   "metadata": {},
   "outputs": [
    {
     "data": {
      "text/html": [
       "<div>\n",
       "<style scoped>\n",
       "    .dataframe tbody tr th:only-of-type {\n",
       "        vertical-align: middle;\n",
       "    }\n",
       "\n",
       "    .dataframe tbody tr th {\n",
       "        vertical-align: top;\n",
       "    }\n",
       "\n",
       "    .dataframe thead th {\n",
       "        text-align: right;\n",
       "    }\n",
       "</style>\n",
       "<table border=\"1\" class=\"dataframe\">\n",
       "  <thead>\n",
       "    <tr style=\"text-align: right;\">\n",
       "      <th></th>\n",
       "      <th>uid</th>\n",
       "      <th>profile</th>\n",
       "      <th>anime_uid</th>\n",
       "      <th>text</th>\n",
       "      <th>rating</th>\n",
       "      <th>scores</th>\n",
       "      <th>link</th>\n",
       "    </tr>\n",
       "  </thead>\n",
       "  <tbody>\n",
       "    <tr>\n",
       "      <th>0</th>\n",
       "      <td>255938</td>\n",
       "      <td>DesolatePsyche</td>\n",
       "      <td>34096</td>\n",
       "      <td>\\n           \\n         \\n           \\n       ...</td>\n",
       "      <td>8</td>\n",
       "      <td>{'Overall': '8', 'Story': '8', 'Animation': '8...</td>\n",
       "      <td>https://myanimelist.net/reviews.php?id=255938</td>\n",
       "    </tr>\n",
       "    <tr>\n",
       "      <th>1</th>\n",
       "      <td>259117</td>\n",
       "      <td>baekbeans</td>\n",
       "      <td>34599</td>\n",
       "      <td>\\n           \\n         \\n           \\n       ...</td>\n",
       "      <td>10</td>\n",
       "      <td>{'Overall': '10', 'Story': '10', 'Animation': ...</td>\n",
       "      <td>https://myanimelist.net/reviews.php?id=259117</td>\n",
       "    </tr>\n",
       "    <tr>\n",
       "      <th>2</th>\n",
       "      <td>253664</td>\n",
       "      <td>skrn</td>\n",
       "      <td>28891</td>\n",
       "      <td>\\n           \\n         \\n           \\n       ...</td>\n",
       "      <td>7</td>\n",
       "      <td>{'Overall': '7', 'Story': '7', 'Animation': '9...</td>\n",
       "      <td>https://myanimelist.net/reviews.php?id=253664</td>\n",
       "    </tr>\n",
       "    <tr>\n",
       "      <th>3</th>\n",
       "      <td>8254</td>\n",
       "      <td>edgewalker00</td>\n",
       "      <td>2904</td>\n",
       "      <td>\\n           \\n         \\n           \\n       ...</td>\n",
       "      <td>9</td>\n",
       "      <td>{'Overall': '9', 'Story': '9', 'Animation': '9...</td>\n",
       "      <td>https://myanimelist.net/reviews.php?id=8254</td>\n",
       "    </tr>\n",
       "    <tr>\n",
       "      <th>4</th>\n",
       "      <td>10046</td>\n",
       "      <td>eneri</td>\n",
       "      <td>2904</td>\n",
       "      <td>\\n           \\n         \\n           \\n       ...</td>\n",
       "      <td>10</td>\n",
       "      <td>{'Overall': '10', 'Story': '9', 'Animation': '...</td>\n",
       "      <td>https://myanimelist.net/reviews.php?id=10046</td>\n",
       "    </tr>\n",
       "  </tbody>\n",
       "</table>\n",
       "</div>"
      ],
      "text/plain": [
       "      uid         profile  anime_uid  \\\n",
       "0  255938  DesolatePsyche      34096   \n",
       "1  259117       baekbeans      34599   \n",
       "2  253664            skrn      28891   \n",
       "3    8254    edgewalker00       2904   \n",
       "4   10046           eneri       2904   \n",
       "\n",
       "                                                text  rating  \\\n",
       "0  \\n           \\n         \\n           \\n       ...       8   \n",
       "1  \\n           \\n         \\n           \\n       ...      10   \n",
       "2  \\n           \\n         \\n           \\n       ...       7   \n",
       "3  \\n           \\n         \\n           \\n       ...       9   \n",
       "4  \\n           \\n         \\n           \\n       ...      10   \n",
       "\n",
       "                                              scores  \\\n",
       "0  {'Overall': '8', 'Story': '8', 'Animation': '8...   \n",
       "1  {'Overall': '10', 'Story': '10', 'Animation': ...   \n",
       "2  {'Overall': '7', 'Story': '7', 'Animation': '9...   \n",
       "3  {'Overall': '9', 'Story': '9', 'Animation': '9...   \n",
       "4  {'Overall': '10', 'Story': '9', 'Animation': '...   \n",
       "\n",
       "                                            link  \n",
       "0  https://myanimelist.net/reviews.php?id=255938  \n",
       "1  https://myanimelist.net/reviews.php?id=259117  \n",
       "2  https://myanimelist.net/reviews.php?id=253664  \n",
       "3    https://myanimelist.net/reviews.php?id=8254  \n",
       "4   https://myanimelist.net/reviews.php?id=10046  "
      ]
     },
     "execution_count": 3,
     "metadata": {},
     "output_type": "execute_result"
    }
   ],
   "source": [
    "df_reviews.head(5)"
   ]
  },
  {
   "cell_type": "code",
   "execution_count": 4,
   "metadata": {},
   "outputs": [
    {
     "data": {
      "text/plain": [
       "(15363, 8)"
      ]
     },
     "execution_count": 4,
     "metadata": {},
     "output_type": "execute_result"
    }
   ],
   "source": [
    "# create a userid for each profile\n",
    "user_id_profile = df_reviews.drop_duplicates(['profile'])\n",
    "user_id_profile['user_id'] = user_id_profile.index\n",
    "user_id_profile.shape"
   ]
  },
  {
   "cell_type": "code",
   "execution_count": 5,
   "metadata": {},
   "outputs": [
    {
     "data": {
      "text/plain": [
       "(75921, 8)"
      ]
     },
     "execution_count": 5,
     "metadata": {},
     "output_type": "execute_result"
    }
   ],
   "source": [
    "# merge user_id_profile with df_reviews to get user_id\n",
    "df_reviews = df_reviews.merge(user_id_profile[['profile', 'user_id']], how='left', on='profile')\n",
    "df_reviews.shape"
   ]
  },
  {
   "cell_type": "code",
   "execution_count": 6,
   "metadata": {},
   "outputs": [
    {
     "data": {
      "text/plain": [
       "2913"
      ]
     },
     "execution_count": 6,
     "metadata": {},
     "output_type": "execute_result"
    }
   ],
   "source": [
    "# check number of unique animes\n",
    "len(set(df_reviews['anime_uid'].tolist()))"
   ]
  },
  {
   "cell_type": "code",
   "execution_count": 8,
   "metadata": {
    "scrolled": true
   },
   "outputs": [
    {
     "data": {
      "text/plain": [
       "(4808, 92)"
      ]
     },
     "execution_count": 8,
     "metadata": {},
     "output_type": "execute_result"
    }
   ],
   "source": [
    "# import animes data\n",
    "df_anime = pd.read_csv('processed_data/processed_anime.csv')\n",
    "df_anime = df_anime.rename(columns={'Score': 'Average_rating'})\n",
    "df_anime.shape"
   ]
  },
  {
   "cell_type": "markdown",
   "metadata": {},
   "source": [
    "## 2. Apply Train Test Split\n",
    "\n",
    "Apply the leave-one-out methodology to do train-test split. For each user, the most recent review is used as the test set. The most recent review is indicated by the larger uid. The reamining ratings would be used in the train dataset. This will help to ensure no data leakage."
   ]
  },
  {
   "cell_type": "code",
   "execution_count": 9,
   "metadata": {},
   "outputs": [],
   "source": [
    "try:\n",
    "    os.mkdir('./processed_data/autoencoder/')\n",
    "except OSError:\n",
    "    pass"
   ]
  },
  {
   "cell_type": "code",
   "execution_count": 10,
   "metadata": {},
   "outputs": [
    {
     "data": {
      "text/plain": [
       "(15363, 8)"
      ]
     },
     "execution_count": 10,
     "metadata": {},
     "output_type": "execute_result"
    }
   ],
   "source": [
    "# create test dataset\n",
    "test = df_reviews.loc[df_reviews.groupby('user_id')['uid'].idxmax()]\n",
    "test.shape"
   ]
  },
  {
   "cell_type": "code",
   "execution_count": 11,
   "metadata": {},
   "outputs": [
    {
     "data": {
      "text/plain": [
       "(60558, 8)"
      ]
     },
     "execution_count": 11,
     "metadata": {},
     "output_type": "execute_result"
    }
   ],
   "source": [
    "# create train dataset\n",
    "train = df_reviews[~(df_reviews['uid'].isin(test['uid'].tolist()))]\n",
    "train.shape"
   ]
  },
  {
   "cell_type": "code",
   "execution_count": 12,
   "metadata": {},
   "outputs": [
    {
     "data": {
      "text/plain": [
       "121"
      ]
     },
     "execution_count": 12,
     "metadata": {},
     "output_type": "execute_result"
    }
   ],
   "source": [
    "# check which are the animes present in test but not in train\n",
    "animes_not_in_train = list(set(test[~(test['anime_uid'].isin(train['anime_uid']))]['anime_uid'].tolist()))\n",
    "len(animes_not_in_train)"
   ]
  },
  {
   "cell_type": "markdown",
   "metadata": {},
   "source": [
    "## 3. Train Autoencoder using Train Dataset only"
   ]
  },
  {
   "cell_type": "markdown",
   "metadata": {},
   "source": [
    "**a. prepare dataset**"
   ]
  },
  {
   "cell_type": "code",
   "execution_count": 13,
   "metadata": {},
   "outputs": [
    {
     "data": {
      "text/plain": [
       "0"
      ]
     },
     "execution_count": 13,
     "metadata": {},
     "output_type": "execute_result"
    }
   ],
   "source": [
    "# check min review score\n",
    "min(train['rating'])"
   ]
  },
  {
   "cell_type": "code",
   "execution_count": 14,
   "metadata": {},
   "outputs": [],
   "source": [
    "# adjust the min rating to 0.1 to distinguish between those poorly rated items and those items rated 0\n",
    "train['rating'] = np.where(train['rating']==0, 0.1, train['rating'])"
   ]
  },
  {
   "cell_type": "code",
   "execution_count": 15,
   "metadata": {},
   "outputs": [
    {
     "data": {
      "text/plain": [
       "0.1"
      ]
     },
     "execution_count": 15,
     "metadata": {},
     "output_type": "execute_result"
    }
   ],
   "source": [
    "# check min review score\n",
    "min(train['rating'])"
   ]
  },
  {
   "cell_type": "code",
   "execution_count": 16,
   "metadata": {},
   "outputs": [
    {
     "data": {
      "text/plain": [
       "2792"
      ]
     },
     "execution_count": 16,
     "metadata": {},
     "output_type": "execute_result"
    }
   ],
   "source": [
    "# get unique list of animes\n",
    "anime_uid = list(set(train['anime_uid'].tolist()))\n",
    "len(anime_uid)"
   ]
  },
  {
   "cell_type": "code",
   "execution_count": 17,
   "metadata": {},
   "outputs": [
    {
     "data": {
      "text/html": [
       "<div>\n",
       "<style scoped>\n",
       "    .dataframe tbody tr th:only-of-type {\n",
       "        vertical-align: middle;\n",
       "    }\n",
       "\n",
       "    .dataframe tbody tr th {\n",
       "        vertical-align: top;\n",
       "    }\n",
       "\n",
       "    .dataframe thead th {\n",
       "        text-align: right;\n",
       "    }\n",
       "</style>\n",
       "<table border=\"1\" class=\"dataframe\">\n",
       "  <thead>\n",
       "    <tr style=\"text-align: right;\">\n",
       "      <th>anime_uid</th>\n",
       "      <th>1</th>\n",
       "      <th>6</th>\n",
       "      <th>7</th>\n",
       "      <th>8</th>\n",
       "      <th>15</th>\n",
       "      <th>16</th>\n",
       "      <th>17</th>\n",
       "      <th>18</th>\n",
       "      <th>19</th>\n",
       "      <th>20</th>\n",
       "      <th>...</th>\n",
       "      <th>39699</th>\n",
       "      <th>39701</th>\n",
       "      <th>39799</th>\n",
       "      <th>39811</th>\n",
       "      <th>39940</th>\n",
       "      <th>39959</th>\n",
       "      <th>39963</th>\n",
       "      <th>40004</th>\n",
       "      <th>40040</th>\n",
       "      <th>40197</th>\n",
       "    </tr>\n",
       "    <tr>\n",
       "      <th>user_id</th>\n",
       "      <th></th>\n",
       "      <th></th>\n",
       "      <th></th>\n",
       "      <th></th>\n",
       "      <th></th>\n",
       "      <th></th>\n",
       "      <th></th>\n",
       "      <th></th>\n",
       "      <th></th>\n",
       "      <th></th>\n",
       "      <th></th>\n",
       "      <th></th>\n",
       "      <th></th>\n",
       "      <th></th>\n",
       "      <th></th>\n",
       "      <th></th>\n",
       "      <th></th>\n",
       "      <th></th>\n",
       "      <th></th>\n",
       "      <th></th>\n",
       "      <th></th>\n",
       "    </tr>\n",
       "  </thead>\n",
       "  <tbody>\n",
       "    <tr>\n",
       "      <th>0</th>\n",
       "      <td>0.0</td>\n",
       "      <td>0.0</td>\n",
       "      <td>0.0</td>\n",
       "      <td>7.0</td>\n",
       "      <td>0.0</td>\n",
       "      <td>0.0</td>\n",
       "      <td>0.0</td>\n",
       "      <td>0.0</td>\n",
       "      <td>8.0</td>\n",
       "      <td>0.0</td>\n",
       "      <td>...</td>\n",
       "      <td>0.0</td>\n",
       "      <td>0.0</td>\n",
       "      <td>0.0</td>\n",
       "      <td>0.0</td>\n",
       "      <td>0.0</td>\n",
       "      <td>0.0</td>\n",
       "      <td>0.0</td>\n",
       "      <td>0.0</td>\n",
       "      <td>0.0</td>\n",
       "      <td>0.0</td>\n",
       "    </tr>\n",
       "    <tr>\n",
       "      <th>1</th>\n",
       "      <td>0.0</td>\n",
       "      <td>0.0</td>\n",
       "      <td>0.0</td>\n",
       "      <td>0.0</td>\n",
       "      <td>0.0</td>\n",
       "      <td>0.0</td>\n",
       "      <td>0.0</td>\n",
       "      <td>0.0</td>\n",
       "      <td>0.0</td>\n",
       "      <td>0.0</td>\n",
       "      <td>...</td>\n",
       "      <td>0.0</td>\n",
       "      <td>0.0</td>\n",
       "      <td>0.0</td>\n",
       "      <td>0.0</td>\n",
       "      <td>0.0</td>\n",
       "      <td>0.0</td>\n",
       "      <td>0.0</td>\n",
       "      <td>0.0</td>\n",
       "      <td>0.0</td>\n",
       "      <td>0.0</td>\n",
       "    </tr>\n",
       "    <tr>\n",
       "      <th>2</th>\n",
       "      <td>0.0</td>\n",
       "      <td>0.0</td>\n",
       "      <td>0.0</td>\n",
       "      <td>0.0</td>\n",
       "      <td>0.0</td>\n",
       "      <td>0.0</td>\n",
       "      <td>0.0</td>\n",
       "      <td>0.0</td>\n",
       "      <td>0.0</td>\n",
       "      <td>0.0</td>\n",
       "      <td>...</td>\n",
       "      <td>0.0</td>\n",
       "      <td>0.0</td>\n",
       "      <td>0.0</td>\n",
       "      <td>0.0</td>\n",
       "      <td>0.0</td>\n",
       "      <td>0.0</td>\n",
       "      <td>0.0</td>\n",
       "      <td>0.0</td>\n",
       "      <td>0.0</td>\n",
       "      <td>0.0</td>\n",
       "    </tr>\n",
       "    <tr>\n",
       "      <th>3</th>\n",
       "      <td>0.0</td>\n",
       "      <td>0.0</td>\n",
       "      <td>0.0</td>\n",
       "      <td>0.0</td>\n",
       "      <td>0.0</td>\n",
       "      <td>0.0</td>\n",
       "      <td>0.0</td>\n",
       "      <td>0.0</td>\n",
       "      <td>0.0</td>\n",
       "      <td>0.0</td>\n",
       "      <td>...</td>\n",
       "      <td>0.0</td>\n",
       "      <td>0.0</td>\n",
       "      <td>0.0</td>\n",
       "      <td>0.0</td>\n",
       "      <td>0.0</td>\n",
       "      <td>0.0</td>\n",
       "      <td>0.0</td>\n",
       "      <td>0.0</td>\n",
       "      <td>0.0</td>\n",
       "      <td>0.0</td>\n",
       "    </tr>\n",
       "    <tr>\n",
       "      <th>4</th>\n",
       "      <td>0.0</td>\n",
       "      <td>0.0</td>\n",
       "      <td>0.0</td>\n",
       "      <td>0.0</td>\n",
       "      <td>0.0</td>\n",
       "      <td>0.0</td>\n",
       "      <td>0.0</td>\n",
       "      <td>0.0</td>\n",
       "      <td>0.0</td>\n",
       "      <td>0.0</td>\n",
       "      <td>...</td>\n",
       "      <td>0.0</td>\n",
       "      <td>0.0</td>\n",
       "      <td>0.0</td>\n",
       "      <td>0.0</td>\n",
       "      <td>0.0</td>\n",
       "      <td>0.0</td>\n",
       "      <td>0.0</td>\n",
       "      <td>0.0</td>\n",
       "      <td>0.0</td>\n",
       "      <td>0.0</td>\n",
       "    </tr>\n",
       "    <tr>\n",
       "      <th>5</th>\n",
       "      <td>0.0</td>\n",
       "      <td>0.0</td>\n",
       "      <td>0.0</td>\n",
       "      <td>0.0</td>\n",
       "      <td>0.0</td>\n",
       "      <td>0.0</td>\n",
       "      <td>0.0</td>\n",
       "      <td>0.0</td>\n",
       "      <td>0.0</td>\n",
       "      <td>0.0</td>\n",
       "      <td>...</td>\n",
       "      <td>0.0</td>\n",
       "      <td>0.0</td>\n",
       "      <td>0.0</td>\n",
       "      <td>0.0</td>\n",
       "      <td>0.0</td>\n",
       "      <td>0.0</td>\n",
       "      <td>0.0</td>\n",
       "      <td>0.0</td>\n",
       "      <td>0.0</td>\n",
       "      <td>0.0</td>\n",
       "    </tr>\n",
       "    <tr>\n",
       "      <th>6</th>\n",
       "      <td>0.0</td>\n",
       "      <td>0.0</td>\n",
       "      <td>0.0</td>\n",
       "      <td>0.0</td>\n",
       "      <td>0.0</td>\n",
       "      <td>0.0</td>\n",
       "      <td>0.0</td>\n",
       "      <td>0.0</td>\n",
       "      <td>0.0</td>\n",
       "      <td>0.0</td>\n",
       "      <td>...</td>\n",
       "      <td>0.0</td>\n",
       "      <td>0.0</td>\n",
       "      <td>0.0</td>\n",
       "      <td>0.0</td>\n",
       "      <td>0.0</td>\n",
       "      <td>0.0</td>\n",
       "      <td>0.0</td>\n",
       "      <td>0.0</td>\n",
       "      <td>0.0</td>\n",
       "      <td>0.0</td>\n",
       "    </tr>\n",
       "    <tr>\n",
       "      <th>7</th>\n",
       "      <td>0.0</td>\n",
       "      <td>0.0</td>\n",
       "      <td>0.0</td>\n",
       "      <td>0.0</td>\n",
       "      <td>0.0</td>\n",
       "      <td>0.0</td>\n",
       "      <td>0.0</td>\n",
       "      <td>0.0</td>\n",
       "      <td>0.0</td>\n",
       "      <td>0.0</td>\n",
       "      <td>...</td>\n",
       "      <td>0.0</td>\n",
       "      <td>0.0</td>\n",
       "      <td>0.0</td>\n",
       "      <td>0.0</td>\n",
       "      <td>0.0</td>\n",
       "      <td>0.0</td>\n",
       "      <td>0.0</td>\n",
       "      <td>0.0</td>\n",
       "      <td>0.0</td>\n",
       "      <td>0.0</td>\n",
       "    </tr>\n",
       "    <tr>\n",
       "      <th>8</th>\n",
       "      <td>0.0</td>\n",
       "      <td>0.0</td>\n",
       "      <td>0.0</td>\n",
       "      <td>0.0</td>\n",
       "      <td>0.0</td>\n",
       "      <td>0.0</td>\n",
       "      <td>0.0</td>\n",
       "      <td>0.0</td>\n",
       "      <td>0.0</td>\n",
       "      <td>0.0</td>\n",
       "      <td>...</td>\n",
       "      <td>0.0</td>\n",
       "      <td>0.0</td>\n",
       "      <td>0.0</td>\n",
       "      <td>0.0</td>\n",
       "      <td>0.0</td>\n",
       "      <td>0.0</td>\n",
       "      <td>0.0</td>\n",
       "      <td>0.0</td>\n",
       "      <td>0.0</td>\n",
       "      <td>0.0</td>\n",
       "    </tr>\n",
       "    <tr>\n",
       "      <th>9</th>\n",
       "      <td>0.0</td>\n",
       "      <td>0.0</td>\n",
       "      <td>0.0</td>\n",
       "      <td>0.0</td>\n",
       "      <td>0.0</td>\n",
       "      <td>0.0</td>\n",
       "      <td>0.0</td>\n",
       "      <td>0.0</td>\n",
       "      <td>0.0</td>\n",
       "      <td>0.0</td>\n",
       "      <td>...</td>\n",
       "      <td>0.0</td>\n",
       "      <td>0.0</td>\n",
       "      <td>0.0</td>\n",
       "      <td>0.0</td>\n",
       "      <td>0.0</td>\n",
       "      <td>0.0</td>\n",
       "      <td>0.0</td>\n",
       "      <td>0.0</td>\n",
       "      <td>0.0</td>\n",
       "      <td>0.0</td>\n",
       "    </tr>\n",
       "  </tbody>\n",
       "</table>\n",
       "<p>10 rows × 2792 columns</p>\n",
       "</div>"
      ],
      "text/plain": [
       "anime_uid  1      6      7      8      15     16     17     18     19     \\\n",
       "user_id                                                                    \n",
       "0            0.0    0.0    0.0    7.0    0.0    0.0    0.0    0.0    8.0   \n",
       "1            0.0    0.0    0.0    0.0    0.0    0.0    0.0    0.0    0.0   \n",
       "2            0.0    0.0    0.0    0.0    0.0    0.0    0.0    0.0    0.0   \n",
       "3            0.0    0.0    0.0    0.0    0.0    0.0    0.0    0.0    0.0   \n",
       "4            0.0    0.0    0.0    0.0    0.0    0.0    0.0    0.0    0.0   \n",
       "5            0.0    0.0    0.0    0.0    0.0    0.0    0.0    0.0    0.0   \n",
       "6            0.0    0.0    0.0    0.0    0.0    0.0    0.0    0.0    0.0   \n",
       "7            0.0    0.0    0.0    0.0    0.0    0.0    0.0    0.0    0.0   \n",
       "8            0.0    0.0    0.0    0.0    0.0    0.0    0.0    0.0    0.0   \n",
       "9            0.0    0.0    0.0    0.0    0.0    0.0    0.0    0.0    0.0   \n",
       "\n",
       "anime_uid  20     ...  39699  39701  39799  39811  39940  39959  39963  40004  \\\n",
       "user_id           ...                                                           \n",
       "0            0.0  ...    0.0    0.0    0.0    0.0    0.0    0.0    0.0    0.0   \n",
       "1            0.0  ...    0.0    0.0    0.0    0.0    0.0    0.0    0.0    0.0   \n",
       "2            0.0  ...    0.0    0.0    0.0    0.0    0.0    0.0    0.0    0.0   \n",
       "3            0.0  ...    0.0    0.0    0.0    0.0    0.0    0.0    0.0    0.0   \n",
       "4            0.0  ...    0.0    0.0    0.0    0.0    0.0    0.0    0.0    0.0   \n",
       "5            0.0  ...    0.0    0.0    0.0    0.0    0.0    0.0    0.0    0.0   \n",
       "6            0.0  ...    0.0    0.0    0.0    0.0    0.0    0.0    0.0    0.0   \n",
       "7            0.0  ...    0.0    0.0    0.0    0.0    0.0    0.0    0.0    0.0   \n",
       "8            0.0  ...    0.0    0.0    0.0    0.0    0.0    0.0    0.0    0.0   \n",
       "9            0.0  ...    0.0    0.0    0.0    0.0    0.0    0.0    0.0    0.0   \n",
       "\n",
       "anime_uid  40040  40197  \n",
       "user_id                  \n",
       "0            0.0    0.0  \n",
       "1            0.0    0.0  \n",
       "2            0.0    0.0  \n",
       "3            0.0    0.0  \n",
       "4            0.0    0.0  \n",
       "5            0.0    0.0  \n",
       "6            0.0    0.0  \n",
       "7            0.0    0.0  \n",
       "8            0.0    0.0  \n",
       "9            0.0    0.0  \n",
       "\n",
       "[10 rows x 2792 columns]"
      ]
     },
     "execution_count": 17,
     "metadata": {},
     "output_type": "execute_result"
    }
   ],
   "source": [
    "# Creating a sparse pivot table with users in rows and items in columns\n",
    "users_items_matrix_df = train.pivot(index   = 'user_id', \n",
    "                                 columns = 'anime_uid', \n",
    "                                 values  = 'rating').fillna(0)\n",
    "users_items_matrix_df.head(10)"
   ]
  },
  {
   "cell_type": "code",
   "execution_count": 18,
   "metadata": {},
   "outputs": [
    {
     "data": {
      "text/plain": [
       "(15363, 2792)"
      ]
     },
     "execution_count": 18,
     "metadata": {},
     "output_type": "execute_result"
    }
   ],
   "source": [
    "users_items_matrix_df.shape"
   ]
  },
  {
   "cell_type": "code",
   "execution_count": 19,
   "metadata": {},
   "outputs": [
    {
     "data": {
      "text/plain": [
       "1.0336814234027463"
      ]
     },
     "execution_count": 19,
     "metadata": {},
     "output_type": "execute_result"
    }
   ],
   "source": [
    "# very sparse matrix\n",
    "users_items_matrix_df.values.mean()*100"
   ]
  },
  {
   "cell_type": "code",
   "execution_count": 20,
   "metadata": {},
   "outputs": [
    {
     "name": "stdout",
     "output_type": "stream",
     "text": [
      "(15363, 121)\n"
     ]
    },
    {
     "data": {
      "text/html": [
       "<div>\n",
       "<style scoped>\n",
       "    .dataframe tbody tr th:only-of-type {\n",
       "        vertical-align: middle;\n",
       "    }\n",
       "\n",
       "    .dataframe tbody tr th {\n",
       "        vertical-align: top;\n",
       "    }\n",
       "\n",
       "    .dataframe thead th {\n",
       "        text-align: right;\n",
       "    }\n",
       "</style>\n",
       "<table border=\"1\" class=\"dataframe\">\n",
       "  <thead>\n",
       "    <tr style=\"text-align: right;\">\n",
       "      <th></th>\n",
       "      <th>3077</th>\n",
       "      <th>34309</th>\n",
       "      <th>38923</th>\n",
       "      <th>2574</th>\n",
       "      <th>2087</th>\n",
       "      <th>3112</th>\n",
       "      <th>33835</th>\n",
       "      <th>28207</th>\n",
       "      <th>2609</th>\n",
       "      <th>3637</th>\n",
       "      <th>...</th>\n",
       "      <th>4061</th>\n",
       "      <th>37345</th>\n",
       "      <th>4062</th>\n",
       "      <th>6116</th>\n",
       "      <th>485</th>\n",
       "      <th>32230</th>\n",
       "      <th>27629</th>\n",
       "      <th>7152</th>\n",
       "      <th>13307</th>\n",
       "      <th>511</th>\n",
       "    </tr>\n",
       "    <tr>\n",
       "      <th>user_id</th>\n",
       "      <th></th>\n",
       "      <th></th>\n",
       "      <th></th>\n",
       "      <th></th>\n",
       "      <th></th>\n",
       "      <th></th>\n",
       "      <th></th>\n",
       "      <th></th>\n",
       "      <th></th>\n",
       "      <th></th>\n",
       "      <th></th>\n",
       "      <th></th>\n",
       "      <th></th>\n",
       "      <th></th>\n",
       "      <th></th>\n",
       "      <th></th>\n",
       "      <th></th>\n",
       "      <th></th>\n",
       "      <th></th>\n",
       "      <th></th>\n",
       "      <th></th>\n",
       "    </tr>\n",
       "  </thead>\n",
       "  <tbody>\n",
       "    <tr>\n",
       "      <th>0</th>\n",
       "      <td>0</td>\n",
       "      <td>0</td>\n",
       "      <td>0</td>\n",
       "      <td>0</td>\n",
       "      <td>0</td>\n",
       "      <td>0</td>\n",
       "      <td>0</td>\n",
       "      <td>0</td>\n",
       "      <td>0</td>\n",
       "      <td>0</td>\n",
       "      <td>...</td>\n",
       "      <td>0</td>\n",
       "      <td>0</td>\n",
       "      <td>0</td>\n",
       "      <td>0</td>\n",
       "      <td>0</td>\n",
       "      <td>0</td>\n",
       "      <td>0</td>\n",
       "      <td>0</td>\n",
       "      <td>0</td>\n",
       "      <td>0</td>\n",
       "    </tr>\n",
       "    <tr>\n",
       "      <th>1</th>\n",
       "      <td>0</td>\n",
       "      <td>0</td>\n",
       "      <td>0</td>\n",
       "      <td>0</td>\n",
       "      <td>0</td>\n",
       "      <td>0</td>\n",
       "      <td>0</td>\n",
       "      <td>0</td>\n",
       "      <td>0</td>\n",
       "      <td>0</td>\n",
       "      <td>...</td>\n",
       "      <td>0</td>\n",
       "      <td>0</td>\n",
       "      <td>0</td>\n",
       "      <td>0</td>\n",
       "      <td>0</td>\n",
       "      <td>0</td>\n",
       "      <td>0</td>\n",
       "      <td>0</td>\n",
       "      <td>0</td>\n",
       "      <td>0</td>\n",
       "    </tr>\n",
       "    <tr>\n",
       "      <th>2</th>\n",
       "      <td>0</td>\n",
       "      <td>0</td>\n",
       "      <td>0</td>\n",
       "      <td>0</td>\n",
       "      <td>0</td>\n",
       "      <td>0</td>\n",
       "      <td>0</td>\n",
       "      <td>0</td>\n",
       "      <td>0</td>\n",
       "      <td>0</td>\n",
       "      <td>...</td>\n",
       "      <td>0</td>\n",
       "      <td>0</td>\n",
       "      <td>0</td>\n",
       "      <td>0</td>\n",
       "      <td>0</td>\n",
       "      <td>0</td>\n",
       "      <td>0</td>\n",
       "      <td>0</td>\n",
       "      <td>0</td>\n",
       "      <td>0</td>\n",
       "    </tr>\n",
       "    <tr>\n",
       "      <th>3</th>\n",
       "      <td>0</td>\n",
       "      <td>0</td>\n",
       "      <td>0</td>\n",
       "      <td>0</td>\n",
       "      <td>0</td>\n",
       "      <td>0</td>\n",
       "      <td>0</td>\n",
       "      <td>0</td>\n",
       "      <td>0</td>\n",
       "      <td>0</td>\n",
       "      <td>...</td>\n",
       "      <td>0</td>\n",
       "      <td>0</td>\n",
       "      <td>0</td>\n",
       "      <td>0</td>\n",
       "      <td>0</td>\n",
       "      <td>0</td>\n",
       "      <td>0</td>\n",
       "      <td>0</td>\n",
       "      <td>0</td>\n",
       "      <td>0</td>\n",
       "    </tr>\n",
       "    <tr>\n",
       "      <th>4</th>\n",
       "      <td>0</td>\n",
       "      <td>0</td>\n",
       "      <td>0</td>\n",
       "      <td>0</td>\n",
       "      <td>0</td>\n",
       "      <td>0</td>\n",
       "      <td>0</td>\n",
       "      <td>0</td>\n",
       "      <td>0</td>\n",
       "      <td>0</td>\n",
       "      <td>...</td>\n",
       "      <td>0</td>\n",
       "      <td>0</td>\n",
       "      <td>0</td>\n",
       "      <td>0</td>\n",
       "      <td>0</td>\n",
       "      <td>0</td>\n",
       "      <td>0</td>\n",
       "      <td>0</td>\n",
       "      <td>0</td>\n",
       "      <td>0</td>\n",
       "    </tr>\n",
       "  </tbody>\n",
       "</table>\n",
       "<p>5 rows × 121 columns</p>\n",
       "</div>"
      ],
      "text/plain": [
       "         3077   34309  38923  2574   2087   3112   33835  28207  2609   3637   \\\n",
       "user_id                                                                         \n",
       "0            0      0      0      0      0      0      0      0      0      0   \n",
       "1            0      0      0      0      0      0      0      0      0      0   \n",
       "2            0      0      0      0      0      0      0      0      0      0   \n",
       "3            0      0      0      0      0      0      0      0      0      0   \n",
       "4            0      0      0      0      0      0      0      0      0      0   \n",
       "\n",
       "         ...  4061   37345  4062   6116   485    32230  27629  7152   13307  \\\n",
       "user_id  ...                                                                  \n",
       "0        ...      0      0      0      0      0      0      0      0      0   \n",
       "1        ...      0      0      0      0      0      0      0      0      0   \n",
       "2        ...      0      0      0      0      0      0      0      0      0   \n",
       "3        ...      0      0      0      0      0      0      0      0      0   \n",
       "4        ...      0      0      0      0      0      0      0      0      0   \n",
       "\n",
       "         511    \n",
       "user_id         \n",
       "0            0  \n",
       "1            0  \n",
       "2            0  \n",
       "3            0  \n",
       "4            0  \n",
       "\n",
       "[5 rows x 121 columns]"
      ]
     },
     "execution_count": 20,
     "metadata": {},
     "output_type": "execute_result"
    }
   ],
   "source": [
    "# create a dataframe with columns being\n",
    "# the name of each of the animes not in train and each row refers to each user with rating = 0\n",
    "manual_df = pd.DataFrame(0, columns = animes_not_in_train, index=users_items_matrix_df.index)\n",
    "print(manual_df.shape)\n",
    "manual_df.head()"
   ]
  },
  {
   "cell_type": "code",
   "execution_count": 21,
   "metadata": {},
   "outputs": [
    {
     "data": {
      "text/plain": [
       "(15363, 2913)"
      ]
     },
     "execution_count": 21,
     "metadata": {},
     "output_type": "execute_result"
    }
   ],
   "source": [
    "# combine the manually created dataframe to the sparse matrix\n",
    "users_items_matrix_df = pd.concat([users_items_matrix_df, manual_df], axis=1)\n",
    "users_items_matrix_df.shape"
   ]
  },
  {
   "cell_type": "markdown",
   "metadata": {},
   "source": [
    "**b. Build autoencoder model**"
   ]
  },
  {
   "cell_type": "code",
   "execution_count": 22,
   "metadata": {},
   "outputs": [],
   "source": [
    "def autoEncoder(X):\n",
    "    '''\n",
    "    Autoencoder for Collaborative Filter Model\n",
    "    '''\n",
    "\n",
    "    # Input, take the raw interaction matrix\n",
    "    input_layer = Input(shape=(X.shape[1],), name='UserScore')\n",
    "    \n",
    "    # Encoder\n",
    "    # -----------------------------\n",
    "    enc1 = Dense(512, activation='selu', name='EncLayer1')(input_layer)\n",
    "\n",
    "    # Latent Space\n",
    "    # -----------------------------\n",
    "    lat_space = Dense(256, activation='selu', name='LatentSpace')(enc1)\n",
    "    lat_space = Dropout(0.5, name='Dropout')(lat_space) # L2 norm regularization term\n",
    "\n",
    "    # Decoder\n",
    "    # -----------------------------\n",
    "    dec1 = Dense(512, activation='selu', name='DecLayer1')(lat_space)\n",
    "\n",
    "    # Output\n",
    "    output_layer = Dense(X.shape[1], activation='linear', name='UserScorePred')(dec1) \n",
    "    # the output target is continuous score, therefore the activation is linear\n",
    "    #  regression {x-f(x)}\n",
    "    # this model maps an input to its reconstruction\n",
    "    model = Model(input_layer, output_layer)    \n",
    "    \n",
    "    return model"
   ]
  },
  {
   "cell_type": "code",
   "execution_count": 23,
   "metadata": {},
   "outputs": [
    {
     "name": "stdout",
     "output_type": "stream",
     "text": [
      "(15363, 2913)\n",
      "(15363, 2913)\n"
     ]
    }
   ],
   "source": [
    "# input\n",
    "# input x\n",
    "X = users_items_matrix_df.values\n",
    "y = users_items_matrix_df.values\n",
    "print(X.shape)\n",
    "print(y.shape)"
   ]
  },
  {
   "cell_type": "code",
   "execution_count": 24,
   "metadata": {},
   "outputs": [
    {
     "name": "stdout",
     "output_type": "stream",
     "text": [
      "Model: \"model\"\n",
      "_________________________________________________________________\n",
      "Layer (type)                 Output Shape              Param #   \n",
      "=================================================================\n",
      "UserScore (InputLayer)       [(None, 2913)]            0         \n",
      "_________________________________________________________________\n",
      "EncLayer1 (Dense)            (None, 512)               1491968   \n",
      "_________________________________________________________________\n",
      "LatentSpace (Dense)          (None, 256)               131328    \n",
      "_________________________________________________________________\n",
      "Dropout (Dropout)            (None, 256)               0         \n",
      "_________________________________________________________________\n",
      "DecLayer1 (Dense)            (None, 512)               131584    \n",
      "_________________________________________________________________\n",
      "UserScorePred (Dense)        (None, 2913)              1494369   \n",
      "=================================================================\n",
      "Total params: 3,249,249\n",
      "Trainable params: 3,249,249\n",
      "Non-trainable params: 0\n",
      "_________________________________________________________________\n"
     ]
    }
   ],
   "source": [
    "# Build model\n",
    "model = autoEncoder(X)\n",
    "\n",
    "model.compile(optimizer = Adam(lr=0.0001), loss='mse')\n",
    "    \n",
    "model.summary()"
   ]
  },
  {
   "cell_type": "code",
   "execution_count": 25,
   "metadata": {},
   "outputs": [
    {
     "name": "stdout",
     "output_type": "stream",
     "text": [
      "Epoch 1/30\n",
      "193/193 [==============================] - 2s 4ms/step - loss: 0.1922 - val_loss: 0.0396\n",
      "Epoch 2/30\n",
      "193/193 [==============================] - 1s 3ms/step - loss: 0.1129 - val_loss: 0.0326\n",
      "Epoch 3/30\n",
      "193/193 [==============================] - 1s 3ms/step - loss: 0.0932 - val_loss: 0.0301\n",
      "Epoch 4/30\n",
      "193/193 [==============================] - 1s 3ms/step - loss: 0.0869 - val_loss: 0.0290\n",
      "Epoch 5/30\n",
      "193/193 [==============================] - 1s 3ms/step - loss: 0.0814 - val_loss: 0.0284\n",
      "Epoch 6/30\n",
      "193/193 [==============================] - 1s 3ms/step - loss: 0.0790 - val_loss: 0.0280\n",
      "Epoch 7/30\n",
      "193/193 [==============================] - 1s 3ms/step - loss: 0.0758 - val_loss: 0.0278\n",
      "Epoch 8/30\n",
      "193/193 [==============================] - 1s 3ms/step - loss: 0.0743 - val_loss: 0.0276\n",
      "Epoch 9/30\n",
      "193/193 [==============================] - 1s 3ms/step - loss: 0.0725 - val_loss: 0.0274\n",
      "Epoch 10/30\n",
      "193/193 [==============================] - 1s 3ms/step - loss: 0.0699 - val_loss: 0.0273\n",
      "Epoch 11/30\n",
      "193/193 [==============================] - 1s 3ms/step - loss: 0.0692 - val_loss: 0.0272\n",
      "Epoch 12/30\n",
      "193/193 [==============================] - 1s 3ms/step - loss: 0.0689 - val_loss: 0.0270\n",
      "Epoch 13/30\n",
      "193/193 [==============================] - 1s 3ms/step - loss: 0.0686 - val_loss: 0.0269\n",
      "Epoch 14/30\n",
      "193/193 [==============================] - 1s 3ms/step - loss: 0.0700 - val_loss: 0.0268\n",
      "Epoch 15/30\n",
      "193/193 [==============================] - 1s 3ms/step - loss: 0.0672 - val_loss: 0.0268\n",
      "Epoch 16/30\n",
      "193/193 [==============================] - 1s 4ms/step - loss: 0.0671 - val_loss: 0.0267\n",
      "Epoch 17/30\n",
      "193/193 [==============================] - 1s 3ms/step - loss: 0.0645 - val_loss: 0.0267\n",
      "Epoch 18/30\n",
      "193/193 [==============================] - 1s 3ms/step - loss: 0.0671 - val_loss: 0.0266\n",
      "Epoch 19/30\n",
      "193/193 [==============================] - 1s 3ms/step - loss: 0.0651 - val_loss: 0.0265\n",
      "Epoch 20/30\n",
      "193/193 [==============================] - 1s 3ms/step - loss: 0.0641 - val_loss: 0.0265\n",
      "Epoch 21/30\n",
      "193/193 [==============================] - 1s 3ms/step - loss: 0.0647 - val_loss: 0.0265\n",
      "Epoch 22/30\n",
      "193/193 [==============================] - 1s 3ms/step - loss: 0.0640 - val_loss: 0.0264\n",
      "Epoch 23/30\n",
      "193/193 [==============================] - 1s 3ms/step - loss: 0.0654 - val_loss: 0.0264\n",
      "Epoch 24/30\n",
      "193/193 [==============================] - 1s 3ms/step - loss: 0.0635 - val_loss: 0.0263\n",
      "Epoch 25/30\n",
      "193/193 [==============================] - 1s 3ms/step - loss: 0.0620 - val_loss: 0.0263\n",
      "Epoch 26/30\n",
      "193/193 [==============================] - 1s 3ms/step - loss: 0.0633 - val_loss: 0.0263\n",
      "Epoch 27/30\n",
      "193/193 [==============================] - 1s 3ms/step - loss: 0.0634 - val_loss: 0.0263\n",
      "Epoch 28/30\n",
      "193/193 [==============================] - 1s 3ms/step - loss: 0.0626 - val_loss: 0.0263\n",
      "Epoch 29/30\n",
      "193/193 [==============================] - 1s 3ms/step - loss: 0.0639 - val_loss: 0.0262\n",
      "Epoch 30/30\n",
      "193/193 [==============================] - 1s 3ms/step - loss: 0.0639 - val_loss: 0.0262\n"
     ]
    }
   ],
   "source": [
    "hist = model.fit(x=X, y=y,\n",
    "                  epochs=30,\n",
    "                  batch_size=64,\n",
    "                  shuffle=True,\n",
    "                  validation_split=0.2)"
   ]
  },
  {
   "cell_type": "code",
   "execution_count": 26,
   "metadata": {},
   "outputs": [
    {
     "data": {
      "image/png": "[encoded data removed]",
      "text/plain": [
       "<Figure size 432x288 with 1 Axes>"
      ]
     },
     "metadata": {
      "needs_background": "light"
     },
     "output_type": "display_data"
    }
   ],
   "source": [
    "def plot_hist(hist):\n",
    "    # summarize history for loss\n",
    "    fig, ax = plt.subplots()  # create figure & 1 axis\n",
    "\n",
    "    plt.title('model loss')\n",
    "    plt.ylabel('loss')\n",
    "    plt.xlabel('epoch')\n",
    "    plt.legend(['train', 'test'], loc='upper left')\n",
    "\n",
    "    plt.plot(hist.history['loss'])\n",
    "    #plt.plot(hist.history['val_loss'])\n",
    "\n",
    "plot_hist(hist)"
   ]
  },
  {
   "cell_type": "markdown",
   "metadata": {},
   "source": [
    "## 4. Predict Ratings on Animes which Users did not Interact Before"
   ]
  },
  {
   "cell_type": "code",
   "execution_count": 27,
   "metadata": {},
   "outputs": [],
   "source": [
    "# Predict new Matrix Interactions\n",
    "# set score zero on predicted anime\n",
    "# because we only want to predict the scores of those anime that users did not interact before\n",
    "\n",
    "new_matrix = model.predict(X) * (X == 0)"
   ]
  },
  {
   "cell_type": "code",
   "execution_count": 28,
   "metadata": {},
   "outputs": [
    {
     "name": "stdout",
     "output_type": "stream",
     "text": [
      "(15363, 2913)\n"
     ]
    }
   ],
   "source": [
    "# converting the reconstructed matrix back to a Pandas dataframe\n",
    "new_users_items_matrix_df  = pd.DataFrame(new_matrix, \n",
    "                                          columns = users_items_matrix_df.columns, \n",
    "                                          index   = users_items_matrix_df.index)\n",
    "print(new_users_items_matrix_df.shape)"
   ]
  },
  {
   "cell_type": "code",
   "execution_count": 29,
   "metadata": {},
   "outputs": [
    {
     "data": {
      "text/html": [
       "<div>\n",
       "<style scoped>\n",
       "    .dataframe tbody tr th:only-of-type {\n",
       "        vertical-align: middle;\n",
       "    }\n",
       "\n",
       "    .dataframe tbody tr th {\n",
       "        vertical-align: top;\n",
       "    }\n",
       "\n",
       "    .dataframe thead th {\n",
       "        text-align: right;\n",
       "    }\n",
       "</style>\n",
       "<table border=\"1\" class=\"dataframe\">\n",
       "  <thead>\n",
       "    <tr style=\"text-align: right;\">\n",
       "      <th></th>\n",
       "      <th>1</th>\n",
       "      <th>6</th>\n",
       "      <th>7</th>\n",
       "      <th>8</th>\n",
       "      <th>15</th>\n",
       "      <th>16</th>\n",
       "      <th>17</th>\n",
       "      <th>18</th>\n",
       "      <th>19</th>\n",
       "      <th>20</th>\n",
       "      <th>...</th>\n",
       "      <th>4061</th>\n",
       "      <th>37345</th>\n",
       "      <th>4062</th>\n",
       "      <th>6116</th>\n",
       "      <th>485</th>\n",
       "      <th>32230</th>\n",
       "      <th>27629</th>\n",
       "      <th>7152</th>\n",
       "      <th>13307</th>\n",
       "      <th>511</th>\n",
       "    </tr>\n",
       "    <tr>\n",
       "      <th>user_id</th>\n",
       "      <th></th>\n",
       "      <th></th>\n",
       "      <th></th>\n",
       "      <th></th>\n",
       "      <th></th>\n",
       "      <th></th>\n",
       "      <th></th>\n",
       "      <th></th>\n",
       "      <th></th>\n",
       "      <th></th>\n",
       "      <th></th>\n",
       "      <th></th>\n",
       "      <th></th>\n",
       "      <th></th>\n",
       "      <th></th>\n",
       "      <th></th>\n",
       "      <th></th>\n",
       "      <th></th>\n",
       "      <th></th>\n",
       "      <th></th>\n",
       "      <th></th>\n",
       "    </tr>\n",
       "  </thead>\n",
       "  <tbody>\n",
       "    <tr>\n",
       "      <th>0</th>\n",
       "      <td>0.815754</td>\n",
       "      <td>0.007944</td>\n",
       "      <td>0.131963</td>\n",
       "      <td>0.000000</td>\n",
       "      <td>-0.071079</td>\n",
       "      <td>0.648736</td>\n",
       "      <td>0.074269</td>\n",
       "      <td>-0.065678</td>\n",
       "      <td>0.000000</td>\n",
       "      <td>0.343855</td>\n",
       "      <td>...</td>\n",
       "      <td>-0.060295</td>\n",
       "      <td>-0.169714</td>\n",
       "      <td>-0.045879</td>\n",
       "      <td>-0.017517</td>\n",
       "      <td>-0.036187</td>\n",
       "      <td>0.161904</td>\n",
       "      <td>0.125280</td>\n",
       "      <td>-0.119060</td>\n",
       "      <td>-0.186030</td>\n",
       "      <td>-0.005535</td>\n",
       "    </tr>\n",
       "    <tr>\n",
       "      <th>1</th>\n",
       "      <td>0.303530</td>\n",
       "      <td>0.563738</td>\n",
       "      <td>0.047009</td>\n",
       "      <td>-0.026770</td>\n",
       "      <td>0.012784</td>\n",
       "      <td>-0.004483</td>\n",
       "      <td>-0.035429</td>\n",
       "      <td>-0.032839</td>\n",
       "      <td>0.760301</td>\n",
       "      <td>0.075650</td>\n",
       "      <td>...</td>\n",
       "      <td>-0.022120</td>\n",
       "      <td>-0.059445</td>\n",
       "      <td>-0.058280</td>\n",
       "      <td>0.029179</td>\n",
       "      <td>-0.001597</td>\n",
       "      <td>-0.008781</td>\n",
       "      <td>0.075093</td>\n",
       "      <td>0.035789</td>\n",
       "      <td>-0.015432</td>\n",
       "      <td>-0.018780</td>\n",
       "    </tr>\n",
       "    <tr>\n",
       "      <th>2</th>\n",
       "      <td>-0.092296</td>\n",
       "      <td>-0.114557</td>\n",
       "      <td>-0.012189</td>\n",
       "      <td>0.022446</td>\n",
       "      <td>-0.055207</td>\n",
       "      <td>-0.085420</td>\n",
       "      <td>0.027564</td>\n",
       "      <td>0.000272</td>\n",
       "      <td>0.303190</td>\n",
       "      <td>0.086033</td>\n",
       "      <td>...</td>\n",
       "      <td>-0.010020</td>\n",
       "      <td>0.000270</td>\n",
       "      <td>0.015533</td>\n",
       "      <td>-0.010393</td>\n",
       "      <td>0.015257</td>\n",
       "      <td>0.002791</td>\n",
       "      <td>0.011026</td>\n",
       "      <td>0.011531</td>\n",
       "      <td>-0.016637</td>\n",
       "      <td>0.011895</td>\n",
       "    </tr>\n",
       "    <tr>\n",
       "      <th>3</th>\n",
       "      <td>0.139117</td>\n",
       "      <td>-0.059430</td>\n",
       "      <td>-0.099219</td>\n",
       "      <td>-0.023956</td>\n",
       "      <td>0.069304</td>\n",
       "      <td>-0.146089</td>\n",
       "      <td>-0.028173</td>\n",
       "      <td>0.023907</td>\n",
       "      <td>0.005598</td>\n",
       "      <td>0.209523</td>\n",
       "      <td>...</td>\n",
       "      <td>0.009128</td>\n",
       "      <td>0.014803</td>\n",
       "      <td>-0.012119</td>\n",
       "      <td>-0.003019</td>\n",
       "      <td>0.002855</td>\n",
       "      <td>0.016726</td>\n",
       "      <td>-0.015920</td>\n",
       "      <td>0.006949</td>\n",
       "      <td>-0.042908</td>\n",
       "      <td>-0.031106</td>\n",
       "    </tr>\n",
       "    <tr>\n",
       "      <th>4</th>\n",
       "      <td>0.036470</td>\n",
       "      <td>-0.369006</td>\n",
       "      <td>-0.052915</td>\n",
       "      <td>-0.027892</td>\n",
       "      <td>0.067990</td>\n",
       "      <td>-0.053043</td>\n",
       "      <td>0.059314</td>\n",
       "      <td>-0.002268</td>\n",
       "      <td>-0.016319</td>\n",
       "      <td>0.137118</td>\n",
       "      <td>...</td>\n",
       "      <td>0.021964</td>\n",
       "      <td>-0.002817</td>\n",
       "      <td>-0.012478</td>\n",
       "      <td>0.015654</td>\n",
       "      <td>-0.007954</td>\n",
       "      <td>0.013470</td>\n",
       "      <td>0.007904</td>\n",
       "      <td>-0.003435</td>\n",
       "      <td>-0.006032</td>\n",
       "      <td>-0.005468</td>\n",
       "    </tr>\n",
       "  </tbody>\n",
       "</table>\n",
       "<p>5 rows × 2913 columns</p>\n",
       "</div>"
      ],
      "text/plain": [
       "            1         6         7         8         15        16        17     \\\n",
       "user_id                                                                         \n",
       "0        0.815754  0.007944  0.131963  0.000000 -0.071079  0.648736  0.074269   \n",
       "1        0.303530  0.563738  0.047009 -0.026770  0.012784 -0.004483 -0.035429   \n",
       "2       -0.092296 -0.114557 -0.012189  0.022446 -0.055207 -0.085420  0.027564   \n",
       "3        0.139117 -0.059430 -0.099219 -0.023956  0.069304 -0.146089 -0.028173   \n",
       "4        0.036470 -0.369006 -0.052915 -0.027892  0.067990 -0.053043  0.059314   \n",
       "\n",
       "            18        19        20     ...     4061      37345     4062   \\\n",
       "user_id                                ...                                 \n",
       "0       -0.065678  0.000000  0.343855  ... -0.060295 -0.169714 -0.045879   \n",
       "1       -0.032839  0.760301  0.075650  ... -0.022120 -0.059445 -0.058280   \n",
       "2        0.000272  0.303190  0.086033  ... -0.010020  0.000270  0.015533   \n",
       "3        0.023907  0.005598  0.209523  ...  0.009128  0.014803 -0.012119   \n",
       "4       -0.002268 -0.016319  0.137118  ...  0.021964 -0.002817 -0.012478   \n",
       "\n",
       "            6116      485       32230     27629     7152      13307     511    \n",
       "user_id                                                                        \n",
       "0       -0.017517 -0.036187  0.161904  0.125280 -0.119060 -0.186030 -0.005535  \n",
       "1        0.029179 -0.001597 -0.008781  0.075093  0.035789 -0.015432 -0.018780  \n",
       "2       -0.010393  0.015257  0.002791  0.011026  0.011531 -0.016637  0.011895  \n",
       "3       -0.003019  0.002855  0.016726 -0.015920  0.006949 -0.042908 -0.031106  \n",
       "4        0.015654 -0.007954  0.013470  0.007904 -0.003435 -0.006032 -0.005468  \n",
       "\n",
       "[5 rows x 2913 columns]"
      ]
     },
     "execution_count": 29,
     "metadata": {},
     "output_type": "execute_result"
    }
   ],
   "source": [
    "# check predictions\n",
    "new_users_items_matrix_df.head()"
   ]
  },
  {
   "cell_type": "markdown",
   "metadata": {},
   "source": [
    "## 5. Evaluate Hit Rate @ 10"
   ]
  },
  {
   "cell_type": "code",
   "execution_count": 30,
   "metadata": {},
   "outputs": [
    {
     "data": {
      "text/plain": [
       "15363"
      ]
     },
     "execution_count": 30,
     "metadata": {},
     "output_type": "execute_result"
    }
   ],
   "source": [
    "# get unique user_id\n",
    "user_ids = user_id_profile['user_id'].tolist()\n",
    "len(user_ids)"
   ]
  },
  {
   "cell_type": "code",
   "execution_count": 31,
   "metadata": {},
   "outputs": [
    {
     "data": {
      "text/plain": [
       "2913"
      ]
     },
     "execution_count": 31,
     "metadata": {},
     "output_type": "execute_result"
    }
   ],
   "source": [
    "# get unique list of animes\n",
    "anime_uid = list(set(df_reviews['anime_uid'].tolist()))\n",
    "len(anime_uid)"
   ]
  },
  {
   "cell_type": "code",
   "execution_count": 32,
   "metadata": {},
   "outputs": [],
   "source": [
    "# identify list of animes not watched. As the not watched list is huge, \n",
    "# we randomly sample 99 animes not watched items + the one watched item in the test data to form the not watched list\n",
    "\n",
    "not_watched_list_1 = []\n",
    "not_watched_list_2 = []\n",
    "not_watched_list_3 = []\n",
    "not_watched_list_4 = []\n",
    "not_watched_list_5 = []\n",
    "\n",
    "for user in user_ids:\n",
    "    \n",
    "    # subset watched animes - i.e. those with ratings\n",
    "    u_watched = train[train['user_id']==user]['anime_uid'].tolist()\n",
    "    \n",
    "    # identify animes not watched i.e. those without ratings\n",
    "    u_not_watched = list(set(anime_uid) - set(u_watched) - set(test[test['user_id']==user]['anime_uid'].tolist()))\n",
    "    \n",
    "    # set seed to control reproducibility of sampling\n",
    "    random.seed(2345)\n",
    "    u_not_watched_1 = random.sample(u_not_watched, 99) + test[test['user_id']==user]['anime_uid'].tolist()\n",
    "    not_watched_list_1.append(u_not_watched_1)\n",
    "        \n",
    "    random.seed(2346)\n",
    "    u_not_watched_2 = random.sample(u_not_watched, 99) + test[test['user_id']==user]['anime_uid'].tolist()\n",
    "    not_watched_list_2.append(u_not_watched_2)\n",
    "    \n",
    "    random.seed(2347)\n",
    "    u_not_watched_3 = random.sample(u_not_watched, 99) + test[test['user_id']==user]['anime_uid'].tolist()\n",
    "    not_watched_list_3.append(u_not_watched_3)\n",
    "    \n",
    "    random.seed(2348)\n",
    "    u_not_watched_4 = random.sample(u_not_watched, 99) + test[test['user_id']==user]['anime_uid'].tolist()\n",
    "    not_watched_list_4.append(u_not_watched_4)\n",
    "    \n",
    "    random.seed(2349)\n",
    "    u_not_watched_5 = random.sample(u_not_watched, 99) + test[test['user_id']==user]['anime_uid'].tolist()\n",
    "    not_watched_list_5.append(u_not_watched_5)\n"
   ]
  },
  {
   "cell_type": "code",
   "execution_count": 33,
   "metadata": {},
   "outputs": [
    {
     "name": "stdout",
     "output_type": "stream",
     "text": [
      "15363\n",
      "15363\n"
     ]
    }
   ],
   "source": [
    "# check len of watched_list and not watched list\n",
    "print(len(not_watched_list_1))\n",
    "print(len(not_watched_list_5))"
   ]
  },
  {
   "cell_type": "code",
   "execution_count": 34,
   "metadata": {},
   "outputs": [
    {
     "name": "stdout",
     "output_type": "stream",
     "text": [
      "100\n",
      "100\n"
     ]
    }
   ],
   "source": [
    "# check \n",
    "print(len(not_watched_list_1[0]))\n",
    "print(len(not_watched_list_5[0]))"
   ]
  },
  {
   "cell_type": "code",
   "execution_count": 35,
   "metadata": {},
   "outputs": [],
   "source": [
    "# create a function to fetch the predicted ratings for the anime which has not been watched by each user\n",
    "\n",
    "def predict_ratings(prediction_matrix, profile, not_watched):\n",
    "    \n",
    "    '''\n",
    "    Args:\n",
    "        prediction_matrix - dataframe containing all the predicted ratings\n",
    "        profile - list of unique user ids\n",
    "        not_watched - list of not watched animes for all users\n",
    "    \n",
    "    Returns:\n",
    "        predicted_rating - nested list of predicted ratings for each user\n",
    "\n",
    "    '''\n",
    "    \n",
    "    # initialise list to store predictions\n",
    "    predicted_rating = []\n",
    "    \n",
    "    for i in range(len(profile)):\n",
    "        \n",
    "        user = profile[i]\n",
    "    \n",
    "        # subset animes not watched for user\n",
    "        animes = not_watched[i]\n",
    "        #print(len(animes))\n",
    "    \n",
    "        # subset the dataframe to extract the predictions\n",
    "        user_row = prediction_matrix[prediction_matrix.index == user][animes]\n",
    "        pred_rating = user_row.values.flatten().tolist()\n",
    "\n",
    "        predicted_rating.append(pred_rating) \n",
    "    \n",
    "    return predicted_rating\n"
   ]
  },
  {
   "cell_type": "code",
   "execution_count": 36,
   "metadata": {},
   "outputs": [
    {
     "name": "stdout",
     "output_type": "stream",
     "text": [
      "done\n",
      "done\n",
      "done\n",
      "done\n",
      "done\n",
      "Time taken: 26.553325399999977\n"
     ]
    }
   ],
   "source": [
    "# Generate predict ratings based on the different sets of randomly sampled 100 not watched animes for each user\n",
    "\n",
    "start_time = timeit.default_timer()\n",
    "\n",
    "predicted_ratings_1 = predict_ratings(new_users_items_matrix_df, user_ids, not_watched_list_1)\n",
    "print('done')\n",
    "predicted_ratings_2 = predict_ratings(new_users_items_matrix_df, user_ids, not_watched_list_2)\n",
    "print('done')\n",
    "predicted_ratings_3 = predict_ratings(new_users_items_matrix_df, user_ids, not_watched_list_3)\n",
    "print('done')\n",
    "predicted_ratings_4 = predict_ratings(new_users_items_matrix_df, user_ids, not_watched_list_4)\n",
    "print('done')\n",
    "predicted_ratings_5 = predict_ratings(new_users_items_matrix_df, user_ids, not_watched_list_5)\n",
    "print('done')\n",
    "\n",
    "elapsed = timeit.default_timer() - start_time\n",
    "print('Time taken:', elapsed)"
   ]
  },
  {
   "cell_type": "code",
   "execution_count": 37,
   "metadata": {},
   "outputs": [],
   "source": [
    "# create function to evaluate hit rate @ 10\n",
    "\n",
    "def hit_rate(predictions, not_watched, test_dataset, profile):\n",
    "    \n",
    "    '''\n",
    "    Args:\n",
    "        predictions - nested list of predicted ratings of every user for the 100 animes randomly sampled\n",
    "        not_watched - nested list of 100 animes not watched for each user\n",
    "        test_dataset - test data\n",
    "        profile - list of unique profiles\n",
    "    \n",
    "    Returns:\n",
    "        hit_rate - hit rate @ 10\n",
    "        top_10_animes - nested list of top 10 ainmes recommended for each user \n",
    "    '''\n",
    "    \n",
    "    top_10_animes = []\n",
    "    hit = 0\n",
    "    \n",
    "    for i in range(len(predictions)):\n",
    "    \n",
    "        user = profile[i]\n",
    "    \n",
    "        # get the top 10 animes recommended to user\n",
    "        top_10_idx = np.argsort(predictions[i])[-10:]\n",
    "        top_10_animes = [not_watched[i][k] for k in top_10_idx]\n",
    "    \n",
    "        # check if the test data is found in the proposed top 10 recommended animes\n",
    "        anime_watched = test_dataset[test_dataset['user_id']==user]['anime_uid']\n",
    "\n",
    "        if anime_watched.values in top_10_animes:\n",
    "            hit += 1\n",
    "        else:\n",
    "            hit = hit\n",
    "    \n",
    "    hit_rate = round((hit/len(profile))*100,2)\n",
    "    \n",
    "    return top_10_animes, hit_rate"
   ]
  },
  {
   "cell_type": "code",
   "execution_count": 38,
   "metadata": {},
   "outputs": [
    {
     "name": "stdout",
     "output_type": "stream",
     "text": [
      "Time taken: 18.056894\n"
     ]
    }
   ],
   "source": [
    "# Generate hit rate @ 10 for the different samples\n",
    "\n",
    "start_time = timeit.default_timer()\n",
    "\n",
    "top_10_animes_1, hit_rate_1 = hit_rate(predicted_ratings_1, not_watched_list_1, test, user_ids)\n",
    "top_10_animes_2, hit_rate_2 = hit_rate(predicted_ratings_2, not_watched_list_2, test, user_ids)\n",
    "top_10_animes_3, hit_rate_3 = hit_rate(predicted_ratings_3, not_watched_list_3, test, user_ids)\n",
    "top_10_animes_4, hit_rate_4 = hit_rate(predicted_ratings_4, not_watched_list_4, test, user_ids)\n",
    "top_10_animes_5, hit_rate_5 = hit_rate(predicted_ratings_5, not_watched_list_5, test, user_ids)\n",
    "\n",
    "elapsed = timeit.default_timer() - start_time\n",
    "print('Time taken:', elapsed)\n"
   ]
  },
  {
   "cell_type": "code",
   "execution_count": 39,
   "metadata": {
    "scrolled": true
   },
   "outputs": [
    {
     "name": "stdout",
     "output_type": "stream",
     "text": [
      "Hit Rate @ 10 based on not_watched_list_1: 41.91%\n",
      "Hit Rate @ 10 based on not_watched_list_2: 42.22%\n",
      "Hit Rate @ 10 based on not_watched_list_3: 42.09%\n",
      "Hit Rate @ 10 based on not_watched_list_4: 43.42%\n",
      "Hit Rate @ 10 based on not_watched_list_5: 45.23%\n"
     ]
    }
   ],
   "source": [
    "# print hit rates\n",
    "print('Hit Rate @ 10 based on not_watched_list_1: {}%'.format(hit_rate_1))\n",
    "print('Hit Rate @ 10 based on not_watched_list_2: {}%'.format(hit_rate_2))\n",
    "print('Hit Rate @ 10 based on not_watched_list_3: {}%'.format(hit_rate_3))\n",
    "print('Hit Rate @ 10 based on not_watched_list_4: {}%'.format(hit_rate_4))\n",
    "print('Hit Rate @ 10 based on not_watched_list_5: {}%'.format(hit_rate_5))\n"
   ]
  },
  {
   "cell_type": "code",
   "execution_count": 40,
   "metadata": {},
   "outputs": [
    {
     "name": "stdout",
     "output_type": "stream",
     "text": [
      "Average Hit Rate @ 10 based on the 5 different sets of randomly sampled not watched list using Autoencoder model: 42.974%\n"
     ]
    }
   ],
   "source": [
    "# print avg hit rates\n",
    "avg_hit_rate = (hit_rate_1 + hit_rate_2 + hit_rate_3 + hit_rate_4 + hit_rate_5)/5 \n",
    "print('Average Hit Rate @ 10 based on the 5 different sets of randomly sampled not watched list using Autoencoder model: {}%'.format(avg_hit_rate))\n"
   ]
  },
  {
   "cell_type": "code",
   "execution_count": 43,
   "metadata": {},
   "outputs": [],
   "source": [
    "# save the results\n",
    "hit_rates_all = [hit_rate_1, hit_rate_2, hit_rate_3, hit_rate_4, hit_rate_5, avg_hit_rate]\n",
    "\n",
    "with open(\"processed_data/autoencoder/model4_results.pkl\", \"wb\") as fp:   \n",
    "    pickle.dump((predicted_ratings_1, predicted_ratings_2, predicted_ratings_3, predicted_ratings_4, predicted_ratings_5, \\\n",
    "                not_watched_list_1, not_watched_list_2, not_watched_list_3, not_watched_list_4, not_watched_list_5, \\\n",
    "                 top_10_animes_1, top_10_animes_2, top_10_animes_3, top_10_animes_4, top_10_animes_5, hit_rates_all, user_ids), fp)"
   ]
  },
  {
   "cell_type": "code",
   "execution_count": null,
   "metadata": {},
   "outputs": [],
   "source": []
  }
 ],
 "metadata": {
  "kernelspec": {
   "display_name": "Python 3",
   "language": "python",
   "name": "python3"
  },
  "language_info": {
   "codemirror_mode": {
    "name": "ipython",
    "version": 3
   },
   "file_extension": ".py",
   "mimetype": "text/x-python",
   "name": "python",
   "nbconvert_exporter": "python",
   "pygments_lexer": "ipython3",
   "version": "3.8.5"
  }
 },
 "nbformat": 4,
 "nbformat_minor": 4
}
